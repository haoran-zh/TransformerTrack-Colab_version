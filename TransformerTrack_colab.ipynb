{
  "cells": [
    {
      "cell_type": "markdown",
      "metadata": {
        "id": "view-in-github",
        "colab_type": "text"
      },
      "source": [
        "<a href=\"https://colab.research.google.com/github/haoran-zh/TransformerTrack-Colab_version/blob/main/TransformerTrack_colab.ipynb\" target=\"_parent\"><img src=\"https://colab.research.google.com/assets/colab-badge.svg\" alt=\"Open In Colab\"/></a>"
      ]
    },
    {
      "cell_type": "code",
      "execution_count": null,
      "metadata": {
        "colab": {
          "base_uri": "https://localhost:8080/"
        },
        "id": "Lnu919Q8zXep",
        "outputId": "6be70bfb-380a-4031-e8b1-8b2461cb7d1a"
      },
      "outputs": [
        {
          "output_type": "stream",
          "name": "stdout",
          "text": [
            "Mounted at /content/drive\n",
            "/content/drive/MyDrive/TUMresearch\n",
            "/content/drive/MyDrive/TUMresearch\n"
          ]
        }
      ],
      "source": [
        "# connect google drive\n",
        "# by running this, you can connect your code with your google drive.\n",
        "# Upload your project files to your google drive in advance, then you can connect it with your code by running this.\n",
        "from google.colab import drive\n",
        "drive.mount('/content/drive') # the path where the drive is connected\n",
        "\n",
        "# change the work directory\n",
        "%cd /content/drive/MyDrive/[filename]\n",
        "\n",
        "# check the work directory\n",
        "!pwd"
      ]
    },
    {
      "cell_type": "code",
      "execution_count": null,
      "metadata": {
        "id": "1PheH4fHMYuV"
      },
      "outputs": [],
      "source": [
        "# detect GPU\n",
        "gpu_info = !nvidia-smi\n",
        "gpu_info = '\\n'.join(gpu_info)\n",
        "if gpu_info.find('failed') >= 0:\n",
        "  print('Not connected to a GPU')\n",
        "else:\n",
        "  print(gpu_info)"
      ]
    },
    {
      "cell_type": "markdown",
      "metadata": {
        "id": "kZqOlbYTAazQ"
      },
      "source": [
        "# Tracker Model Preparation\n",
        "1. Change working path.\n",
        "2. Install necessary environments"
      ]
    },
    {
      "cell_type": "code",
      "execution_count": null,
      "metadata": {
        "colab": {
          "base_uri": "https://localhost:8080/"
        },
        "id": "9Yv6ePW0eYDt",
        "outputId": "8e543238-8da5-411d-a456-efb1e8887e0b"
      },
      "outputs": [
        {
          "output_type": "stream",
          "name": "stdout",
          "text": [
            "/content/drive/MyDrive/TUMresearch\n"
          ]
        }
      ],
      "source": [
        "%cd /content/drive/MyDrive/[workpath]"
      ]
    },
    {
      "cell_type": "code",
      "execution_count": null,
      "metadata": {
        "id": "RytvSeh3WCP2"
      },
      "outputs": [],
      "source": [
        "# some packages you need before start\n",
        "!bash install.sh conda_install_path pytracking\n",
        "!pip install lvis\n",
        "!pip install ipywidgets\n",
        "!apt-get update\n",
        "!apt-get install -y xvfb"
      ]
    },
    {
      "cell_type": "markdown",
      "metadata": {
        "id": "JIxfHAn28APn"
      },
      "source": [
        "# Training and testing"
      ]
    },
    {
      "cell_type": "code",
      "execution_count": null,
      "metadata": {
        "colab": {
          "base_uri": "https://localhost:8080/"
        },
        "id": "hq9WA6mlqcZw",
        "outputId": "5246949a-3110-4be1-e72a-aabdf0dd7bcd"
      },
      "outputs": [
        {
          "name": "stdout",
          "output_type": "stream",
          "text": [
            "/content/drive/MyDrive/TUMresearch/TransformerTrack/ltr\n"
          ]
        }
      ],
      "source": [
        "%cd ltr"
      ]
    },
    {
      "cell_type": "code",
      "execution_count": null,
      "metadata": {
        "colab": {
          "background_save": true
        },
        "id": "tTlIlkoOcQfD"
      },
      "outputs": [],
      "source": [
        "# fine-tune the pretrained model\n",
        "import datetime\n",
        "from google.colab import runtime\n",
        "\n",
        "current_time = datetime.datetime.now()\n",
        "print(\"Current time:\", current_time)\n",
        "\n",
        "!python run_training.py dimp transformer_dimp_ultrasound | tee ../../train_log.txt\n",
        "\n",
        "current_time = datetime.datetime.now()\n",
        "print(\"End time:\", current_time)\n",
        "\n",
        "runtime.unassign() # end the session after the training"
      ]
    },
    {
      "cell_type": "code",
      "execution_count": null,
      "metadata": {
        "colab": {
          "base_uri": "https://localhost:8080/"
        },
        "id": "CICFuisroStC",
        "outputId": "6cec0b3b-a33d-466f-bd42-479dfe94cb8a"
      },
      "outputs": [
        {
          "name": "stdout",
          "output_type": "stream",
          "text": [
            "/content\n"
          ]
        }
      ],
      "source": [
        "!pwd | tee ../../train_log.txt"
      ]
    },
    {
      "cell_type": "code",
      "execution_count": null,
      "metadata": {
        "colab": {
          "base_uri": "https://localhost:8080/"
        },
        "id": "ZlNYAoeMoa3z",
        "outputId": "10d970a1-c3ce-451c-90b6-3eff5d7faded"
      },
      "outputs": [
        {
          "name": "stdout",
          "output_type": "stream",
          "text": [
            "Current time: 2023-05-31 22:11:06.984846\n"
          ]
        }
      ],
      "source": [
        "import datetime\n",
        "current_time = datetime.datetime.now()\n",
        "print(\"Current time:\", current_time)"
      ]
    },
    {
      "cell_type": "code",
      "execution_count": null,
      "metadata": {
        "colab": {
          "base_uri": "https://localhost:8080/"
        },
        "id": "uvF_1aTqH2F6",
        "outputId": "b69770ad-b085-4669-98e3-982ec9b0dce7"
      },
      "outputs": [
        {
          "output_type": "stream",
          "name": "stdout",
          "text": [
            "/content/drive/MyDrive/TUMresearch/TransformerTrack/pytracking\n"
          ]
        }
      ],
      "source": [
        "%cd TransformerTrack/pytracking"
      ]
    },
    {
      "cell_type": "code",
      "execution_count": null,
      "metadata": {
        "colab": {
          "base_uri": "https://localhost:8080/"
        },
        "id": "-YsgShiFBNHg",
        "outputId": "0458bfe9-732c-40cd-daaa-dec654753088"
      },
      "outputs": [
        {
          "output_type": "stream",
          "name": "stdout",
          "text": [
            "Using /root/.cache/torch_extensions/py310_cu118 as PyTorch extensions root...\n",
            "Detected CUDA files, patching ldflags\n",
            "Emitting ninja build file /root/.cache/torch_extensions/py310_cu118/_prroi_pooling/build.ninja...\n",
            "Building extension module _prroi_pooling...\n",
            "Allowing ninja to set a default number of workers... (overridable by setting the environment variable MAX_JOBS=N)\n",
            "ninja: no work to do.\n",
            "Loading extension module _prroi_pooling...\n"
          ]
        }
      ],
      "source": [
        "# test\n",
        "# Create a virtual display to run the code in headless version\n",
        "import subprocess\n",
        "xvfb = subprocess.Popen([\"Xvfb\", \":99\"])\n",
        "import os\n",
        "os.environ['DISPLAY'] = ':99'\n",
        "\n",
        "!python run_video.py trdimp trdimp ../before0514/c_zhongliang_1.avi --optional_box 570 230 130 125 --debug 0 --save_results\n",
        "\n",
        "xvfb.terminate() # end that"
      ]
    },
    {
      "cell_type": "markdown",
      "metadata": {
        "id": "9Xe9RQYUiTVX"
      },
      "source": [
        "# Show the result\n",
        "add box on the original video"
      ]
    },
    {
      "cell_type": "code",
      "execution_count": null,
      "metadata": {
        "colab": {
          "base_uri": "https://localhost:8080/"
        },
        "id": "kH6u_h1zS6aJ",
        "outputId": "a57a8d30-be5e-41c0-f71d-ccc3b078d2d6"
      },
      "outputs": [
        {
          "name": "stdout",
          "output_type": "stream",
          "text": [
            "/content/drive/MyDrive/TUMresearch/TransformerTrack/pytracking\n"
          ]
        }
      ],
      "source": [
        "!pwd"
      ]
    },
    {
      "cell_type": "code",
      "execution_count": null,
      "metadata": {
        "id": "laYzVMHd_nxA"
      },
      "outputs": [],
      "source": [
        "# working path:\n",
        "# Have the result of boxing.\n",
        "import io\n",
        "import base64\n",
        "from IPython.display import HTML\n",
        "from ipywidgets import interact, interactive, fixed, interact_manual\n",
        "import ipywidgets as widgets\n",
        "import cv2\n",
        "import os\n",
        "from google.colab.patches import cv2_imshow # replace cv2.imshow()\n",
        "\n",
        "def add_box(video_cv2, box_path):\n",
        "  box_file = open(box_path, 'rb')\n",
        "  box_text = box_file.readlines()\n",
        "\n",
        "  box_text = [x.strip() for x in box_text] # remove '\\n'\n",
        "  box_list = []\n",
        "  for line in box_text:\n",
        "    row = line.split(bytes('\\t', 'utf-8')) # remove '\\t'\n",
        "    row = [int(row_byte) for row_byte in row]\n",
        "    box_list.append(row) # the box is like x y w h\n",
        "\n",
        "  # Create output video writer\n",
        "  frame_width = int(video_cv2.get(cv2.CAP_PROP_FRAME_WIDTH))\n",
        "  frame_height = int(video_cv2.get(cv2.CAP_PROP_FRAME_HEIGHT))\n",
        "  fps = int(video_cv2.get(cv2.CAP_PROP_FPS))\n",
        "  fourcc = cv2.VideoWriter_fourcc(*'MJPG')\n",
        "  out = cv2.VideoWriter('../output_'+option[0:-4]+'.avi', fourcc, fps, (frame_width, frame_height))\n",
        "\n",
        "  # process the video\n",
        "  frame_index = 0\n",
        "  while video_cv2.isOpened():\n",
        "    ret, frame = video_cv2.read()\n",
        "    if ret is False:\n",
        "      break\n",
        "    else:\n",
        "      x_tl = box_list[frame_index][0]\n",
        "      y_tl = box_list[frame_index][1]\n",
        "      x_br = x_tl + box_list[frame_index][2]\n",
        "      y_br = y_tl + box_list[frame_index][3]\n",
        "      cv2.rectangle(frame, (x_tl, y_tl), (x_br, y_br), (0, 255, 0), 2)\n",
        "      out.write(frame)\n",
        "      frame_index += 1\n",
        "      # cv2_imshow(frame)\n",
        "\n",
        "  out.release()\n",
        "  box_file.close()\n",
        "  return 0\n",
        "\n",
        "\n",
        "\n",
        "# Read the video file\n",
        "# video_file = open('../original.avi', 'rb')\n",
        "# video_bytes = video_file.read()\n",
        "\n",
        "option = 'c_zhongliang_1.avi'\n",
        "fv_path = os.path.join('../before0514', option)\n",
        "video_cv2 = cv2.VideoCapture(fv_path)\n",
        "\n",
        "frame_width = int(video_cv2.get(cv2.CAP_PROP_FRAME_WIDTH))\n",
        "frame_height = int(video_cv2.get(cv2.CAP_PROP_FRAME_HEIGHT))\n",
        "fps = int(video_cv2.get(cv2.CAP_PROP_FPS))\n",
        "\n",
        "video_boxed = add_box(video_cv2, box_path = 'tracking_results/trdimp/trdimp/video_'+option[0:-4]+'.txt')\n",
        "\n",
        "# get the output_video\n",
        "output_file = open('../output_'+option, 'rb')\n",
        "output_bytes = output_file.read()\n",
        "\n",
        "# Create the video player widget\n",
        "video_widget = widgets.Video(\n",
        "    value=output_bytes,\n",
        "    format='avi',\n",
        "    width=frame_width,\n",
        "    height=frame_height,\n",
        "    autoplay=True,\n",
        "    loop=True\n",
        ")\n",
        "\n",
        "# Display the video player widget\n",
        "video_cv2.release()\n",
        "output_file.close()\n",
        "# display(video_widget)"
      ]
    }
  ],
  "metadata": {
    "accelerator": "GPU",
    "colab": {
      "collapsed_sections": [
        "imMHWIeaWDRV",
        "kZqOlbYTAazQ",
        "JIxfHAn28APn",
        "9Xe9RQYUiTVX",
        "xcX2cyOZ81jd",
        "mTNq_uvXquh9",
        "z-LQ8jvrQ72t",
        "IW3yyxCTvH9C",
        "mEQ0k2-N7LSi",
        "akxwqQJSv5Vj",
        "pnxwghOnyyTm"
      ],
      "machine_shape": "hm",
      "provenance": [],
      "gpuType": "T4",
      "include_colab_link": true
    },
    "kernelspec": {
      "display_name": "Python 3",
      "name": "python3"
    },
    "language_info": {
      "name": "python"
    }
  },
  "nbformat": 4,
  "nbformat_minor": 0
}