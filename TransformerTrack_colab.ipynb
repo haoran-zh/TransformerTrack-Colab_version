{
  "cells": [
    {
      "cell_type": "markdown",
      "metadata": {
        "id": "view-in-github",
        "colab_type": "text"
      },
      "source": [
        "<a href=\"https://colab.research.google.com/github/haoran-zh/TransformerTrack-Colab_version/blob/main/TransformerTrack_colab.ipynb\" target=\"_parent\"><img src=\"https://colab.research.google.com/assets/colab-badge.svg\" alt=\"Open In Colab\"/></a>"
      ]
    },
    {
      "cell_type": "code",
      "execution_count": null,
      "metadata": {
        "colab": {
          "base_uri": "https://localhost:8080/"
        },
        "id": "Lnu919Q8zXep",
        "outputId": "6be70bfb-380a-4031-e8b1-8b2461cb7d1a"
      },
      "outputs": [
        {
          "output_type": "stream",
          "name": "stdout",
          "text": [
            "Mounted at /content/drive\n",
            "/content/drive/MyDrive/TUMresearch\n",
            "/content/drive/MyDrive/TUMresearch\n"
          ]
        }
      ],
      "source": [
        "# connect google drive\n",
        "# by running this, you can connect your code with your google drive.\n",
        "# Upload your project files to your google drive in advance, then you can connect it with your code by running this.\n",
        "from google.colab import drive\n",
        "drive.mount('/content/drive') # the path where the drive is connected\n",
        "\n",
        "# change the work directory\n",
        "%cd /content/drive/MyDrive/TUMresearch\n",
        "\n",
        "# check the work directory\n",
        "!pwd"
      ]
    },
    {
      "cell_type": "code",
      "execution_count": null,
      "metadata": {
        "id": "1PheH4fHMYuV"
      },
      "outputs": [],
      "source": [
        "# detect GPU\n",
        "gpu_info = !nvidia-smi\n",
        "gpu_info = '\\n'.join(gpu_info)\n",
        "if gpu_info.find('failed') >= 0:\n",
        "  print('Not connected to a GPU')\n",
        "else:\n",
        "  print(gpu_info)"
      ]
    },
    {
      "cell_type": "markdown",
      "metadata": {
        "id": "kZqOlbYTAazQ"
      },
      "source": [
        "# Tracker Model Preparation\n",
        "1. Change working path.\n",
        "2. Install necessary environments"
      ]
    },
    {
      "cell_type": "code",
      "execution_count": null,
      "metadata": {
        "colab": {
          "base_uri": "https://localhost:8080/"
        },
        "id": "9Yv6ePW0eYDt",
        "outputId": "8e543238-8da5-411d-a456-efb1e8887e0b"
      },
      "outputs": [
        {
          "output_type": "stream",
          "name": "stdout",
          "text": [
            "/content/drive/MyDrive/TUMresearch\n"
          ]
        }
      ],
      "source": [
        "%cd /content/drive/MyDrive/TUMresearch"
      ]
    },
    {
      "cell_type": "code",
      "execution_count": null,
      "metadata": {
        "id": "RytvSeh3WCP2"
      },
      "outputs": [],
      "source": [
        "%cd TransformerTrack\n",
        "# !git submodule update --init\n",
        "!bash install.sh conda_install_path pytracking\n",
        "!pip install lvis\n",
        "!pip install ipywidgets\n",
        "!apt-get update\n",
        "!apt-get install -y xvfb"
      ]
    },
    {
      "cell_type": "markdown",
      "metadata": {
        "id": "JIxfHAn28APn"
      },
      "source": [
        "# Training and testing"
      ]
    },
    {
      "cell_type": "code",
      "execution_count": null,
      "metadata": {
        "colab": {
          "base_uri": "https://localhost:8080/"
        },
        "id": "hq9WA6mlqcZw",
        "outputId": "5246949a-3110-4be1-e72a-aabdf0dd7bcd"
      },
      "outputs": [
        {
          "name": "stdout",
          "output_type": "stream",
          "text": [
            "/content/drive/MyDrive/TUMresearch/TransformerTrack/ltr\n"
          ]
        }
      ],
      "source": [
        "%cd ltr"
      ]
    },
    {
      "cell_type": "code",
      "execution_count": null,
      "metadata": {
        "colab": {
          "background_save": true
        },
        "id": "tTlIlkoOcQfD"
      },
      "outputs": [],
      "source": [
        "# fine-tune the pretrained model\n",
        "import datetime\n",
        "from google.colab import runtime\n",
        "\n",
        "current_time = datetime.datetime.now()\n",
        "print(\"Current time:\", current_time)\n",
        "\n",
        "!python run_training.py dimp transformer_dimp_ultrasound | tee ../../train_log.txt\n",
        "\n",
        "current_time = datetime.datetime.now()\n",
        "print(\"End time:\", current_time)\n",
        "\n",
        "runtime.unassign() # end the session after the training"
      ]
    },
    {
      "cell_type": "code",
      "execution_count": null,
      "metadata": {
        "colab": {
          "base_uri": "https://localhost:8080/"
        },
        "id": "CICFuisroStC",
        "outputId": "6cec0b3b-a33d-466f-bd42-479dfe94cb8a"
      },
      "outputs": [
        {
          "name": "stdout",
          "output_type": "stream",
          "text": [
            "/content\n"
          ]
        }
      ],
      "source": [
        "!pwd | tee ../../train_log.txt"
      ]
    },
    {
      "cell_type": "code",
      "execution_count": null,
      "metadata": {
        "colab": {
          "base_uri": "https://localhost:8080/"
        },
        "id": "ZlNYAoeMoa3z",
        "outputId": "10d970a1-c3ce-451c-90b6-3eff5d7faded"
      },
      "outputs": [
        {
          "name": "stdout",
          "output_type": "stream",
          "text": [
            "Current time: 2023-05-31 22:11:06.984846\n"
          ]
        }
      ],
      "source": [
        "import datetime\n",
        "current_time = datetime.datetime.now()\n",
        "print(\"Current time:\", current_time)"
      ]
    },
    {
      "cell_type": "code",
      "execution_count": null,
      "metadata": {
        "colab": {
          "base_uri": "https://localhost:8080/"
        },
        "id": "uvF_1aTqH2F6",
        "outputId": "b69770ad-b085-4669-98e3-982ec9b0dce7"
      },
      "outputs": [
        {
          "output_type": "stream",
          "name": "stdout",
          "text": [
            "/content/drive/MyDrive/TUMresearch/TransformerTrack/pytracking\n"
          ]
        }
      ],
      "source": [
        "%cd TransformerTrack/pytracking"
      ]
    },
    {
      "cell_type": "code",
      "execution_count": null,
      "metadata": {
        "colab": {
          "base_uri": "https://localhost:8080/"
        },
        "id": "-YsgShiFBNHg",
        "outputId": "0458bfe9-732c-40cd-daaa-dec654753088"
      },
      "outputs": [
        {
          "output_type": "stream",
          "name": "stdout",
          "text": [
            "Using /root/.cache/torch_extensions/py310_cu118 as PyTorch extensions root...\n",
            "Detected CUDA files, patching ldflags\n",
            "Emitting ninja build file /root/.cache/torch_extensions/py310_cu118/_prroi_pooling/build.ninja...\n",
            "Building extension module _prroi_pooling...\n",
            "Allowing ninja to set a default number of workers... (overridable by setting the environment variable MAX_JOBS=N)\n",
            "ninja: no work to do.\n",
            "Loading extension module _prroi_pooling...\n"
          ]
        }
      ],
      "source": [
        "# test\n",
        "# Create a virtual display to run the code in headless version\n",
        "import subprocess\n",
        "xvfb = subprocess.Popen([\"Xvfb\", \":99\"])\n",
        "import os\n",
        "os.environ['DISPLAY'] = ':99'\n",
        "\n",
        "!python run_video.py trdimp trdimp ../before0514/c_zhongliang_1.avi --optional_box 570 230 130 125 --debug 0 --save_results\n",
        "\n",
        "xvfb.terminate() # end that\n",
        "# x(top left) y(top left) w h\n",
        "\n",
        "# p_yuanbi_2      470 182 120 125\n",
        "# p_arm_5s_20_zl  345 228 60  62\n",
        "# c_zhongliang_1  570 230 130 125\n",
        "# c_arm_1_zl      320 225 60  60\n",
        "\n",
        "\n",
        "# output_origin_1 540 160 130 125\n",
        "# output_origin_2 460 150 130 140\n",
        "# output_origin_4 420 190 130 140\n",
        "# output_origin_7 450 240 130 140\n",
        "\n",
        "# test_video 484 221 121 108"
      ]
    },
    {
      "cell_type": "markdown",
      "metadata": {
        "id": "9Xe9RQYUiTVX"
      },
      "source": [
        "# Show the result\n",
        "add box on the original video"
      ]
    },
    {
      "cell_type": "code",
      "execution_count": null,
      "metadata": {
        "colab": {
          "base_uri": "https://localhost:8080/"
        },
        "id": "kH6u_h1zS6aJ",
        "outputId": "a57a8d30-be5e-41c0-f71d-ccc3b078d2d6"
      },
      "outputs": [
        {
          "name": "stdout",
          "output_type": "stream",
          "text": [
            "/content/drive/MyDrive/TUMresearch/TransformerTrack/pytracking\n"
          ]
        }
      ],
      "source": [
        "!pwd"
      ]
    },
    {
      "cell_type": "code",
      "execution_count": null,
      "metadata": {
        "id": "laYzVMHd_nxA"
      },
      "outputs": [],
      "source": [
        "# working path:\n",
        "# Have the result of boxing.\n",
        "import io\n",
        "import base64\n",
        "from IPython.display import HTML\n",
        "from ipywidgets import interact, interactive, fixed, interact_manual\n",
        "import ipywidgets as widgets\n",
        "import cv2\n",
        "import os\n",
        "from google.colab.patches import cv2_imshow # replace cv2.imshow()\n",
        "\n",
        "def add_box(video_cv2, box_path):\n",
        "  box_file = open(box_path, 'rb')\n",
        "  box_text = box_file.readlines()\n",
        "\n",
        "  box_text = [x.strip() for x in box_text] # remove '\\n'\n",
        "  box_list = []\n",
        "  for line in box_text:\n",
        "    row = line.split(bytes('\\t', 'utf-8')) # remove '\\t'\n",
        "    row = [int(row_byte) for row_byte in row]\n",
        "    box_list.append(row) # the box is like x y w h\n",
        "\n",
        "  # Create output video writer\n",
        "  frame_width = int(video_cv2.get(cv2.CAP_PROP_FRAME_WIDTH))\n",
        "  frame_height = int(video_cv2.get(cv2.CAP_PROP_FRAME_HEIGHT))\n",
        "  fps = int(video_cv2.get(cv2.CAP_PROP_FPS))\n",
        "  fourcc = cv2.VideoWriter_fourcc(*'MJPG')\n",
        "  out = cv2.VideoWriter('../output_'+option[0:-4]+'.avi', fourcc, fps, (frame_width, frame_height))\n",
        "\n",
        "  # process the video\n",
        "  frame_index = 0\n",
        "  while video_cv2.isOpened():\n",
        "    ret, frame = video_cv2.read()\n",
        "    if ret is False:\n",
        "      break\n",
        "    else:\n",
        "      x_tl = box_list[frame_index][0]\n",
        "      y_tl = box_list[frame_index][1]\n",
        "      x_br = x_tl + box_list[frame_index][2]\n",
        "      y_br = y_tl + box_list[frame_index][3]\n",
        "      cv2.rectangle(frame, (x_tl, y_tl), (x_br, y_br), (0, 255, 0), 2)\n",
        "      out.write(frame)\n",
        "      frame_index += 1\n",
        "      # cv2_imshow(frame)\n",
        "\n",
        "  out.release()\n",
        "  box_file.close()\n",
        "  return 0\n",
        "\n",
        "\n",
        "\n",
        "# Read the video file\n",
        "# video_file = open('../original.avi', 'rb')\n",
        "# video_bytes = video_file.read()\n",
        "\n",
        "option = 'c_zhongliang_1.avi'\n",
        "fv_path = os.path.join('../before0514', option)\n",
        "video_cv2 = cv2.VideoCapture(fv_path)\n",
        "\n",
        "frame_width = int(video_cv2.get(cv2.CAP_PROP_FRAME_WIDTH))\n",
        "frame_height = int(video_cv2.get(cv2.CAP_PROP_FRAME_HEIGHT))\n",
        "fps = int(video_cv2.get(cv2.CAP_PROP_FPS))\n",
        "\n",
        "video_boxed = add_box(video_cv2, box_path = 'tracking_results/trdimp/trdimp/video_'+option[0:-4]+'.txt')\n",
        "\n",
        "# get the output_video\n",
        "output_file = open('../output_'+option, 'rb')\n",
        "output_bytes = output_file.read()\n",
        "\n",
        "# Create the video player widget\n",
        "video_widget = widgets.Video(\n",
        "    value=output_bytes,\n",
        "    format='avi',\n",
        "    width=frame_width,\n",
        "    height=frame_height,\n",
        "    autoplay=True,\n",
        "    loop=True\n",
        ")\n",
        "\n",
        "# Display the video player widget\n",
        "video_cv2.release()\n",
        "output_file.close()\n",
        "# display(video_widget)"
      ]
    },
    {
      "cell_type": "markdown",
      "metadata": {
        "id": "xcX2cyOZ81jd"
      },
      "source": [
        "# Ultrasound Dataset re-organize\n",
        "We want to follow the structure of GOT10k dataset, and re-organize our ultrasound dataset just like it.\n",
        "\n",
        "The structure is like:\n",
        "\n",
        "-root  \n",
        "----folder_video1   \n",
        "--------img1.png  \n",
        "--------img2.png  \n",
        "--------img3.png  \n",
        "--------groundtruth.txt  \n",
        "----folder_video2  \n",
        "--------xxxx  \n",
        "----folder_video3   \n",
        "--------xxxx  \n",
        "----list.txt(contain all folders' name)  "
      ]
    },
    {
      "cell_type": "code",
      "execution_count": null,
      "metadata": {
        "id": "ZVpEoLB_y6I0"
      },
      "outputs": [],
      "source": [
        "import shutil\n",
        "import os\n",
        "for i in range(105):\n",
        "  shutil.copy('val_data/val/GOT-10k_Val_000002/meta_info.ini', os.path.join('ultrasound_dataset', str(i), 'meta_info.ini'))\n",
        "  #shutil.copy('val_data/val/GOT-10k_Val_000002/cover.label', os.path.join('ultrasound_dataset', str(i), 'cover.label'))\n",
        "  #shutil.copy('val_data/val/GOT-10k_Val_000002/cut_by_image.label', os.path.join('ultrasound_dataset', str(i), 'cut_by_image.label'))"
      ]
    },
    {
      "cell_type": "code",
      "execution_count": null,
      "metadata": {
        "id": "dvBlne74-x9P"
      },
      "outputs": [],
      "source": [
        "# re organize the dataset\n",
        "import os\n",
        "import shutil\n",
        "import cv2\n",
        "import numpy as np\n",
        "\n",
        "def extract_number(string):\n",
        "  return int(''.join(filter(str.isdigit, string)))\n",
        "\n",
        "\n",
        "def seg2box(label): # np.array\n",
        "  label = cv2.cvtColor(label, cv2.COLOR_BGR2GRAY)\n",
        "  find = np.argwhere(label==1)\n",
        "  # print(label.shape) # (656, 832) y x\n",
        "  # when create video, 832 656(w h)\n",
        "  # imread().shape is h w, correspond to y x\n",
        "  # [209y 473x] [168y 519x]\n",
        "  # [212y 577x] [266y 517x]\n",
        "  x_min = min(find, key=lambda x: x[1])[1] # [209y 473x]\n",
        "  y_min = min(find, key=lambda x: x[0])[0] # [168y 519x]\n",
        "  x_max = max(find, key=lambda x: x[1])[1] # [212y 577x]\n",
        "  y_max = max(find, key=lambda x: x[0])[0] # [266y 517x]\n",
        "  width = x_max - x_min\n",
        "  height = y_max - y_min\n",
        "  box = str(x_min)+'\\t'+str(y_min)+'\\t'+str(width)+'\\t'+str(height) # xmin, ymin, width, height\n",
        "  return box\n",
        "\n",
        "\n",
        "split_size = 90\n",
        "current_path = !pwd\n",
        "current_path = current_path[0]\n",
        "assert current_path[-11:] == 'TUMresearch', 'current path wrong'\n",
        "work_path = os.path.join(current_path, 'us_data_with_label')\n",
        "result_path = os.path.join(current_path, 'ultrasound_dataset')\n",
        "\n",
        "folders = os.listdir(work_path)\n",
        "# 可以舍弃最后几个，保证完整性\n",
        "tiny_video_num = 0\n",
        "for folder in folders:\n",
        "  print('folder num:', folder)\n",
        "  try:\n",
        "    ground_truth_file.close()\n",
        "    print('extra frames come into tiny tiny videos')\n",
        "  except:\n",
        "    print('everything is fine')\n",
        "  folder_path = os.path.join(work_path, folder)\n",
        "  img_path = os.path.join(folder_path, 'img')\n",
        "  label_path = os.path.join(folder_path, 'label')\n",
        "  img_list = os.listdir(img_path)\n",
        "  label_list = os.listdir(label_path)\n",
        "  img_list_sorted = sorted(img_list, key=extract_number)\n",
        "  label_list_sorted = sorted(label_list, key=extract_number)\n",
        "  # tiny videos\n",
        "  dest_path = os.path.join(result_path, str(tiny_video_num)) # the dest folder path\n",
        "  try:\n",
        "    os.makedirs(dest_path)\n",
        "  except:\n",
        "    print('dest_path already exist')\n",
        "  ground_truth_file = open(os.path.join(dest_path, 'groundtruth.txt'), 'w')\n",
        "  frame_num = 0\n",
        "  for (img, label) in zip(img_list_sorted, label_list_sorted):\n",
        "    shutil.copy(os.path.join(img_path, img), os.path.join(dest_path, str(frame_num)+'.png'))\n",
        "    # get label box\n",
        "    label_mask = cv2.imread(os.path.join(label_path, label))\n",
        "    box = seg2box(label_mask)# xmin ymin width height\n",
        "    ground_truth_file.write(box+'\\n')\n",
        "    frame_num += 1\n",
        "    if frame_num > split_size:\n",
        "      print('tiny video num:', str(tiny_video_num))\n",
        "      frame_num = 0\n",
        "      # save current, create a new folder\n",
        "      # save txt\n",
        "      ground_truth_file.close()\n",
        "      # reset dest_path\n",
        "      tiny_video_num += 1\n",
        "      dest_path = os.path.join(result_path, str(tiny_video_num))\n",
        "      try:\n",
        "        os.makedirs(dest_path)\n",
        "      except:\n",
        "        print('dest_path already exist')\n",
        "      ground_truth_file = open(os.path.join(dest_path, 'groundtruth.txt'), 'w')"
      ]
    },
    {
      "cell_type": "code",
      "execution_count": null,
      "metadata": {
        "colab": {
          "base_uri": "https://localhost:8080/"
        },
        "id": "BGfxdUxluOVI",
        "outputId": "3321c39e-3426-4965-bd68-3674c19d9438"
      },
      "outputs": [
        {
          "name": "stdout",
          "output_type": "stream",
          "text": [
            "/content/drive/MyDrive/TUMresearch\n"
          ]
        }
      ],
      "source": [
        "%cd ../../"
      ]
    },
    {
      "cell_type": "code",
      "execution_count": null,
      "metadata": {
        "id": "wo9L6QveuHki"
      },
      "outputs": [],
      "source": [
        "# convert the dataset from png to jpg\n",
        "from PIL import Image\n",
        "import os\n",
        "\n",
        "def convert_png_to_jpg(png_folder, jpg_folder):\n",
        "    for filename in os.listdir(png_folder):\n",
        "        if filename.endswith('.png'):\n",
        "            png_path = os.path.join(png_folder, filename)\n",
        "            jpg_path = os.path.join(jpg_folder, os.path.splitext(filename)[0] + '.jpg')\n",
        "\n",
        "            # Open the PNG image\n",
        "            image = Image.open(png_path)\n",
        "\n",
        "            # Convert PNG to JPEG\n",
        "            image.convert('RGB').save(jpg_path, 'JPEG')\n",
        "\n",
        "            # Delete the PNG file\n",
        "            os.remove(png_path)\n",
        "\n",
        "            print(f\"Converted {png_path} to {jpg_path} and deleted {png_path}\")\n",
        "\n",
        "\n",
        "# Specify the folder paths\n",
        "png_folder = 'ultrasound_dataset/'\n",
        "jpg_folder = 'ultrasound_dataset/'\n",
        "\n",
        "# Call the conversion function\n",
        "for i in range(1, 105):\n",
        "  p_folder = png_folder + str(i)\n",
        "  j_folder = jpg_folder + str(i)\n",
        "  convert_png_to_jpg(p_folder, j_folder)\n"
      ]
    },
    {
      "cell_type": "code",
      "execution_count": null,
      "metadata": {
        "colab": {
          "base_uri": "https://localhost:8080/"
        },
        "id": "eUmY7plhsQji",
        "outputId": "6ab1e1a1-9f78-4174-9fd8-36dd8c86389e"
      },
      "outputs": [
        {
          "name": "stdout",
          "output_type": "stream",
          "text": [
            "(30, 657, 837)\n"
          ]
        }
      ],
      "source": [
        "# create a cut for boxing position with pickle data.\n",
        "import pickle\n",
        "import numpy as np\n",
        "import cv2\n",
        "# From pickle to video\n",
        "data_path = '../us_data/c_arm_1_zl/tmp_0.pickle'\n",
        "data_all = pickle.load(open(data_path, 'rb'))  # Dict('ee_poses':xxx, 'us_images':xxx)\n",
        "data_image = data_all['us_images']  # list(each frame)\n",
        "data_array  = np.array(data_image)\n",
        "print(data_array.shape)\n",
        "p = data_array\n",
        "fourcc = cv2.VideoWriter_fourcc(*'MJPG')\n",
        "writer = cv2.VideoWriter(\"cut.avi\", fourcc, 30, (p.shape[2], p.shape[1]), 0)\n",
        "for i in range(0,p.shape[0]):\n",
        "    writer.write(cv2.convertScaleAbs(p[i]))\n",
        "writer.release()\n",
        "\n",
        "# play_video('cut.avi', p.shape[2], p.shape[1])"
      ]
    },
    {
      "cell_type": "markdown",
      "metadata": {
        "id": "mTNq_uvXquh9"
      },
      "source": [
        "# Process video. create all-together video. (pickle file)"
      ]
    },
    {
      "cell_type": "code",
      "execution_count": null,
      "metadata": {
        "colab": {
          "base_uri": "https://localhost:8080/"
        },
        "id": "V7s5VqOWt6j6",
        "outputId": "93a9df6c-98f0-417b-9326-23a8a564e859"
      },
      "outputs": [
        {
          "name": "stdout",
          "output_type": "stream",
          "text": [
            "/content/drive/MyDrive/TUMresearch/TransformerTrack/pytracking\n"
          ]
        }
      ],
      "source": [
        "%cd TransformerTrack/pytracking"
      ]
    },
    {
      "cell_type": "code",
      "execution_count": null,
      "metadata": {
        "id": "JrdK0qUac5Nh"
      },
      "outputs": [],
      "source": [
        "# Combine all videos together and try to track them all at once.\n",
        "import cv2\n",
        "import os\n",
        "import pickle\n",
        "import numpy as np\n",
        "\n",
        "\n",
        "def get_info(pickle_path):\n",
        "  with open(pickle_path, 'rb') as target_file:\n",
        "    data = pickle.load(target_file)\n",
        "    images = data['us_images']\n",
        "    length = len(images) # frame length\n",
        "    height, width = images[0].shape\n",
        "  return length, width, height\n",
        "\n",
        "\n",
        "def play_video(video_path, width, height):\n",
        "  with open(video_path, 'rb') as output_file:\n",
        "    output_bytes = output_file.read()\n",
        "    # Create the video player widget\n",
        "  video_widget = widgets.Video(\n",
        "      value=output_bytes,\n",
        "      format='avi',\n",
        "      width=width,\n",
        "      height=height,\n",
        "      autoplay=True,\n",
        "      loop=True\n",
        "  )\n",
        "  # Display the video player widget\n",
        "  display(video_widget)\n",
        "\n",
        "\n",
        "option = 'p_yuanbi_2'\n",
        "dataset = '../../us_data'\n",
        "folder_path = os.path.join(dataset, option)\n",
        "file_names = os.listdir(folder_path)\n",
        "\n",
        "# load one sample to get frame_width and frame_height information\n",
        "sample_path = os.path.join(folder_path, file_names[0])\n",
        "frame_num, width, height = get_info(sample_path)\n",
        "fps = frame_num\n",
        "\n",
        "# create the output video\n",
        "out_path = '../' + option + '.avi'\n",
        "fourcc = cv2.VideoWriter_fourcc(*'MJPG')\n",
        "out = cv2.VideoWriter(out_path, fourcc, fps, (width, height), 0)\n",
        "\n",
        "\n",
        "for file_name in file_names:\n",
        "  file_path = os.path.join(folder_path, file_name)\n",
        "  with open(file_path, \"rb\") as pickle_file:\n",
        "    data = pickle.load(pickle_file) # nFrames x image_height x image_width\n",
        "    us_images = data['us_images'] # us_images is a list. each item is a frame (np.array). each file stores 1 second images.\n",
        "    for frame in us_images:\n",
        "      out.write(cv2.convertScaleAbs(frame))\n",
        "\n",
        "out.release()\n",
        "# play_video(out_path, width, height)\n"
      ]
    },
    {
      "cell_type": "code",
      "execution_count": null,
      "metadata": {
        "id": "BC1gtrQOCCi2"
      },
      "outputs": [],
      "source": [
        "import cv2\n",
        "import os\n",
        "\n",
        "import pickle\n",
        "# Open video file\n",
        "\n",
        "folder_path = '../../us_data/c_arm_1_zl'\n",
        "file_names = os.listdir(folder_path)\n",
        "\n",
        "for file_name in file_names:\n",
        "    file_path = os.path.join(folder_path, file_name)\n",
        "    video = cv2.VideoCapture(file_path)\n",
        "    while video.isOpened():\n",
        "      ret, frame = video.read()\n",
        "      if ret is False:\n",
        "        break\n",
        "      else:\n",
        "        out.write(frame)\n",
        "\n",
        "\n",
        "    with open(file_path, \"r\") as file:\n",
        "        # Do something with the file contents here\n",
        "        pass\n",
        "\n",
        "\n",
        "\n",
        "\n",
        "\n",
        "\n",
        "frame_width = int(video.get(cv2.CAP_PROP_FRAME_WIDTH))\n",
        "frame_height = int(video.get(cv2.CAP_PROP_FRAME_HEIGHT))\n",
        "fps = int(video.get(cv2.CAP_PROP_FPS))\n",
        "print(frame_width, frame_height, fps)"
      ]
    },
    {
      "cell_type": "markdown",
      "metadata": {
        "id": "z-LQ8jvrQ72t"
      },
      "source": [
        "# Process the data, create all-together videos. (1 2 4 7)"
      ]
    },
    {
      "cell_type": "code",
      "execution_count": null,
      "metadata": {
        "colab": {
          "base_uri": "https://localhost:8080/"
        },
        "id": "JLrtshaJ-YDq",
        "outputId": "b83e8bb3-2d78-45ff-d418-0212acc48238"
      },
      "outputs": [
        {
          "name": "stdout",
          "output_type": "stream",
          "text": [
            "/content/drive/MyDrive/TUMresearch\n"
          ]
        }
      ],
      "source": [
        "%cd .."
      ]
    },
    {
      "cell_type": "code",
      "execution_count": null,
      "metadata": {
        "id": "RSehZrLO_XaC"
      },
      "outputs": [],
      "source": [
        "# fuse the image folder 66 into a video. should feasible for any other folders.\n",
        "\n",
        "import os\n",
        "import numpy as np\n",
        "import cv2\n",
        "\n",
        "# current work path = TUMresearch\n",
        "\n",
        "# folder_path = TUMresearch/test_data/xxx.jpg...\n",
        "\n",
        "# 1. get the folder_path and img paths.\n",
        "\n",
        "# 2. read the image one by one sortedly and create the video.\n",
        "\n",
        "# put the video into run_video.py, get the txt file to show the box result\n",
        "\n",
        "# compare the predict box and ground truth box.\n",
        "\n",
        "def extract_number(string):\n",
        "  return int(''.join(filter(str.isdigit, string)))\n",
        "\n",
        "dataset_folder = 'test_data'\n",
        "jpg_files = [file_name for file_name in os.listdir(dataset_folder) if file_name.endswith(\".jpg\")]\n",
        "sorted_files = sorted(jpg_files, key=extract_number)\n",
        "\n",
        "out_origin_file = \"test_video.avi\"\n",
        "fourcc = cv2.VideoWriter_fourcc(*'MJPG')\n",
        "out_origin = cv2.VideoWriter(out_origin_file, fourcc, 30, (832, 656)) # 832 is the width\n",
        "\n",
        "for file_name in sorted_files:\n",
        "  # assert file_name[3:7] == label_file_name[5:9], \"Image and Label failed in matching\"\n",
        "  img = cv2.imread(os.path.join(dataset_folder, file_name))\n",
        "  # print('image shape', img.shape) # 656 832 3\n",
        "  # print('label shape', label.shape) # 656 832\n",
        "  out_origin.write(img)\n",
        "\n",
        "out_origin.release()\n",
        "\n"
      ]
    },
    {
      "cell_type": "code",
      "execution_count": null,
      "metadata": {
        "id": "ZRt7qnZr-IJR"
      },
      "outputs": [],
      "source": [
        "# Process the us_data with label， create all-sum videos.\n",
        "# for the original folder, 1 2 4 7\n",
        "# work path: /content/drive/MyDrive/TUMresearch\n",
        "import os\n",
        "import numpy as np\n",
        "import cv2\n",
        "\n",
        "\n",
        "def extract_number(string):\n",
        "  return int(''.join(filter(str.isdigit, string)))\n",
        "\n",
        "\n",
        "def t(ot):\n",
        "  option = ot\n",
        "  # option 1 2 4 7\n",
        "  dataset_name = 'us_data_with_label'\n",
        "  folder_name = os.path.join(dataset_name, option, 'img')\n",
        "  label_folder_name = os.path.join(dataset_name, option, 'label')\n",
        "  file_names = os.listdir(folder_name)\n",
        "  label_file_names = os.listdir(label_folder_name)\n",
        "\n",
        "\n",
        "  # Define the output video file and video writer\n",
        "  out_label_file = \"output_labeled_\"+option+\".avi\"\n",
        "  fourcc = cv2.VideoWriter_fourcc(*'MJPG')\n",
        "  out_label = cv2.VideoWriter(out_label_file, fourcc, 30, (832, 656)) # 832 is the width\n",
        "\n",
        "  out_origin_file = \"output_origin_\"+option+'.avi'\n",
        "  fourcc = cv2.VideoWriter_fourcc(*'MJPG')\n",
        "  out_origin = cv2.VideoWriter(out_origin_file, fourcc, 30, (832, 656)) # 832 is the width\n",
        "\n",
        "\n",
        "  # sort the file name list\n",
        "  sorted_files = sorted(file_names, key=extract_number)\n",
        "  sorted_label_files = sorted(label_file_names, key=extract_number)\n",
        "\n",
        "\n",
        "  for (file_name, label_file_name) in zip(sorted_files, sorted_label_files):\n",
        "    # assert file_name[3:7] == label_file_name[5:9], \"Image and Label failed in matching\"\n",
        "    img = cv2.imread(os.path.join(folder_name, file_name))\n",
        "    # print('image shape', img.shape) # 656 832 3\n",
        "    label = cv2.imread(os.path.join(label_folder_name, label_file_name))\n",
        "    label = cv2.cvtColor(label, cv2.COLOR_BGR2GRAY)\n",
        "    # print('label shape', label.shape) # 656 832\n",
        "    labeled_img = np.copy(img)\n",
        "    labeled_img[label == 1] = [255, 0, 0]\n",
        "    out_label.write(labeled_img)\n",
        "    out_origin.write(img)\n",
        "\n",
        "  out_label.release()\n",
        "  out_origin.release()\n",
        "\n",
        "t('7')"
      ]
    },
    {
      "cell_type": "markdown",
      "metadata": {
        "id": "hc_8gbWQRBtN"
      },
      "source": [
        "# 1-d signal plot"
      ]
    },
    {
      "cell_type": "code",
      "execution_count": null,
      "metadata": {
        "colab": {
          "base_uri": "https://localhost:8080/"
        },
        "id": "20iT-I4qRhYD",
        "outputId": "d406c777-74d1-4758-cb6d-f30a318b7a66"
      },
      "outputs": [
        {
          "output_type": "stream",
          "name": "stdout",
          "text": [
            "/content/drive/MyDrive/TUMresearch\n"
          ]
        }
      ],
      "source": [
        "%cd /content/drive/MyDrive/TUMresearch"
      ]
    },
    {
      "cell_type": "code",
      "execution_count": null,
      "metadata": {
        "colab": {
          "base_uri": "https://localhost:8080/",
          "height": 293
        },
        "id": "8YVKL-FpgVAL",
        "outputId": "5e12ac03-48b9-4b14-a0be-5e993757f017"
      },
      "outputs": [
        {
          "output_type": "display_data",
          "data": {
            "text/plain": [
              "<Figure size 1500x300 with 1 Axes>"
            ],
            "image/png": "[encoded data removed]"
          },
          "metadata": {}
        }
      ],
      "source": [
        "# evaluate the performance of the tracker\n",
        "\n",
        "# read the video with label\n",
        "# calculate the area of the label part\n",
        "# draw a plot for that\n",
        "\n",
        "import cv2\n",
        "import numpy as np\n",
        "import matplotlib.pyplot as plt\n",
        "from scipy.signal import butter, lfilter\n",
        "import math\n",
        "\n",
        "def read_box_text(file_name):\n",
        "  box_path = file_name\n",
        "  box_file = open(box_path, 'rb')\n",
        "  box_text = box_file.readlines()\n",
        "\n",
        "  box_text = [x.strip() for x in box_text] # remove '\\n'\n",
        "  box_list = []\n",
        "  for line in box_text:\n",
        "    row = line.split(bytes('\\t', 'utf-8')) # remove '\\t'\n",
        "    row = [int(row_byte) for row_byte in row]\n",
        "    box_list.append(row) # the box is like x y w h\n",
        "  return box_list\n",
        "\n",
        "def butter_bandpass(lowcut, highcut, fs, order=5):\n",
        "  return butter(order, [lowcut, highcut], fs=fs, btype='band')\n",
        "\n",
        "def butter_bandpass_filter(data, lowcut, highcut, fs, order=5):\n",
        "  b, a = butter_bandpass(lowcut, highcut, fs, order=order)\n",
        "  y = lfilter(b, a, data)\n",
        "  return y\n",
        "\n",
        "# current work path: pytracking\n",
        "\n",
        "def estimate_diameter(frame):\n",
        "  # get the area of the label\n",
        "  # get the estimated diameter by np.pi * (d/2)**2 = area\n",
        "  # return the estimated diameter\n",
        "  label_corr = np.argwhere(np.not_equal(frame[...,0], frame[...,1]))\n",
        "  sum = label_corr.shape[0]\n",
        "  d = math.sqrt(sum/math.pi)\n",
        "  return d\n",
        "\n",
        "def area_evaluation(path, length):\n",
        "  # 1. read the video\n",
        "  video_cv2 = cv2.VideoCapture(path)\n",
        "  frame_length = length\n",
        "  sum_list = []\n",
        "  ini = 0\n",
        "  assert video_cv2.isOpened(), 'Failed to open the video'\n",
        "  # 2. calculate the area\n",
        "  while video_cv2.isOpened():\n",
        "    ini += 1\n",
        "    ret, frame = video_cv2.read()\n",
        "    if ret is False:\n",
        "      break\n",
        "    label_corr = np.argwhere(np.not_equal(frame[..., 0], frame[..., 1]))\n",
        "    sum = label_corr.shape[0]\n",
        "    # sum, = frame[frame==[255, 0, 0]].shape # pointer?\n",
        "    sum_list.append(sum)\n",
        "    if ini > frame_length:\n",
        "      break\n",
        "  # 3. create a time list\n",
        "  time_list = []\n",
        "  sampling_time = 1/30 # FPS\n",
        "  for i in range(len(sum_list)):\n",
        "    time_list.append(i*sampling_time)\n",
        "  return sum_list, time_list\n",
        "\n",
        "\n",
        "def diameter_evaluation(path, length):\n",
        "  # 1. read the video\n",
        "  video_cv2 = cv2.VideoCapture(path)\n",
        "  frame_length = length\n",
        "  diameter_list = []\n",
        "  ini = 0\n",
        "  assert video_cv2.isOpened(), 'Failed to open the video'\n",
        "  # 2. calculate the area\n",
        "  while video_cv2.isOpened():\n",
        "    ini += 1\n",
        "    ret, frame = video_cv2.read()\n",
        "    if ret is False:\n",
        "      break\n",
        "    # 2.1 estimate the diameter that fit the current label best\n",
        "    diameter = estimate_diameter(frame)\n",
        "    diameter_list.append(diameter)\n",
        "    if ini > frame_length:\n",
        "      break\n",
        "  # 3. create a time list\n",
        "  time_list = []\n",
        "  sampling_time = 1/30 # FPS\n",
        "  for i in range(len(diameter_list)):\n",
        "    time_list.append(i*sampling_time)\n",
        "  return diameter_list, time_list\n",
        "\n",
        "\n",
        "def area_evaluation_txt(box_list):\n",
        "  # 1. read the video\n",
        "  sum_list = []\n",
        "  ini = 0\n",
        "  for b in box_list:\n",
        "    sum_list.append(b[2]*b[3])\n",
        "  # 3. create a time list\n",
        "  time_list = []\n",
        "  sampling_time = 1/30 # FPS\n",
        "  for i in range(len(sum_list)):\n",
        "    time_list.append(i*sampling_time)\n",
        "  return sum_list, time_list\n",
        "\n",
        "\n",
        "def diameter_evaluation_txt(box_list):\n",
        "  diameter_list = []\n",
        "  ini = 0\n",
        "  for b in box_list:\n",
        "    diameter_list.append(b[2]+b[3])\n",
        "\n",
        "  # 3. create a time list\n",
        "  time_list = []\n",
        "  sampling_time = 1/30 # FPS\n",
        "  for i in range(len(diameter_list)):\n",
        "    time_list.append(i*sampling_time)\n",
        "  return diameter_list, time_list\n",
        "\n",
        "\n",
        "# main\n",
        "model_result = 'TransformerTrack/pytracking/tracking_results/trdimp/trdimp/video_c_zhongliang_1_epoch60.txt'\n",
        "ground_truth = 'test_data/groundtruth.txt'\n",
        "\n",
        "box_list = read_box_text(model_result)\n",
        "\n",
        "x_list, time_list = diameter_evaluation_txt(box_list)\n",
        "# denoise: band-pass filter\n",
        "y = butter_bandpass_filter(x_list, 0.3, 2.8, 30, order=6)\n",
        "plt.figure(figsize=(15,3))\n",
        "plt.plot(time_list[200:], y[200:], label='Original signal')\n",
        "plt.legend()\n",
        "plt.show()\n",
        "\n",
        "\n",
        "# need to denoise the signal. Like, get rid of the high-frequency of the signal. Band-pass filter.\n",
        "\n",
        "# 1. Area evaluation plot\n",
        "# 2. Diameter evaluation plot: calculate the similar circle for each frame's label.\n",
        "# 3. some 1-d tracker? give some standard samples of pulse signals(including the usual one and others..?)\n",
        "\n",
        "# the data is sampled continously. Ergo, the area function could be like: F(x, t) = Pulse(t) + Position(x),\n",
        "# where Pulse(t) is a period function, and Position(x) should be a very low-frequency function."
      ]
    },
    {
      "cell_type": "markdown",
      "metadata": {
        "id": "akxwqQJSv5Vj"
      },
      "source": [
        "# 1-d signal evaluation. from original data folder(1 2 4 7)."
      ]
    },
    {
      "cell_type": "code",
      "execution_count": null,
      "metadata": {
        "colab": {
          "base_uri": "https://localhost:8080/"
        },
        "id": "6arVRxS9v05w",
        "outputId": "01819365-a8a3-4b45-80da-326889cd1314"
      },
      "outputs": [
        {
          "name": "stdout",
          "output_type": "stream",
          "text": [
            "0.6680648267906968\n",
            "1.1580271656142944 0.0029360569887257847\n",
            "3.1165296063694403 2.8715198886529354\n"
          ]
        }
      ],
      "source": [
        "# Evaluate the tracker result and the label.\n",
        "import cv2\n",
        "import numpy as np\n",
        "import matplotlib.pyplot as plt\n",
        "from scipy.signal import butter, lfilter\n",
        "import math\n",
        "\n",
        "# 1. Make sure the box should totally contain the circle label.\n",
        "# 2. There should be a stable value of box_area/circle_area. More stable means more precise.\n",
        "# 3. The center point of the box and the circle should be near.\n",
        "# 4.\n",
        "\n",
        "def read_box_text(file_name):\n",
        "  box_path = file_name\n",
        "  box_file = open(box_path, 'rb')\n",
        "  box_text = box_file.readlines()\n",
        "\n",
        "  box_text = [x.strip() for x in box_text] # remove '\\n'\n",
        "  box_list = []\n",
        "  for line in box_text:\n",
        "    row = line.split(bytes('\\t', 'utf-8')) # remove '\\t'\n",
        "    row = [int(row_byte) for row_byte in row]\n",
        "    box_list.append(row) # the box is like x y w h\n",
        "  return box_list\n",
        "\n",
        "\n",
        "def all_evaluation(video_cv2, box_list):\n",
        "  assert video_cv2.isOpened(), 'Failed to open the video'\n",
        "  frame_num = 0\n",
        "  box_area_list = []\n",
        "  label_area_list = []\n",
        "  ratio_list = []\n",
        "  center_distance_list = []\n",
        "  while video_cv2.isOpened():\n",
        "    ret, frame = video_cv2.read()\n",
        "    if ret is False:\n",
        "      break\n",
        "    current_box = box_list[frame_num] # [x, y, w, h]\n",
        "    frame_num += 1\n",
        "    box_area = current_box[2] * current_box[3]\n",
        "    box_center = (current_box[0]+current_box[2]/2, current_box[1]+current_box[3]/2) # get a tuple (x,y)\n",
        "\n",
        "    label_corr = np.argwhere(np.not_equal(frame[..., 0], frame[..., 1])) # all positions that inside the label\n",
        "    label_area = label_corr.shape[0]\n",
        "    label_center = sum(label_corr)/label_area\n",
        "    temp = label_center[0]\n",
        "    label_center[0] = label_center[1]\n",
        "    label_center[1] = temp\n",
        "    center_distance = math.sqrt((label_center[0]-box_center[0])**2+(label_center[1]-box_center[1])**2)\n",
        "    ratio = box_area/label_area\n",
        "\n",
        "    box_area_list.append(box_area)\n",
        "    label_area_list.append(label_area)\n",
        "    ratio_list.append(ratio)\n",
        "    center_distance_list.append(center_distance)\n",
        "    if frame_num > 50:\n",
        "      break\n",
        "\n",
        "  area_list = [box_area_list, label_area_list]\n",
        "  return area_list, ratio_list, center_distance_list\n",
        "\n",
        "\n",
        "\n",
        "\n",
        "\n",
        "# A question: 存储视频时发生失真，灰度的是r=b=g，其余都是label\n",
        "\n",
        "# Read the video, read the txt result of the tracker (can be more efficient compared to read another video)\n",
        "def compare_label_box(video_path, txt_path):\n",
        "  video_cv2 = cv2.VideoCapture(video_path)\n",
        "  box_list = read_box_text(txt_path)\n",
        "  area, ratio, center_distance = all_evaluation(video_cv2, box_list)\n",
        "  area_array_box = np.array(area[0])\n",
        "  area_array_label = np.array(area[1])\n",
        "  correlation = np.corrcoef(area_array_box, area_array_label)[0, 1]\n",
        "  ratio_array = np.array(ratio)\n",
        "  ratio_mean = np.mean(ratio_array)\n",
        "  ratio_var = np.var(ratio_array)\n",
        "  center_distance_array = np.array(center_distance)\n",
        "  distance_mean = np.mean(center_distance_array)\n",
        "  distance_var = np.var(center_distance_array)\n",
        "  print(correlation)\n",
        "  print(ratio_mean, ratio_var)\n",
        "  print(distance_mean, distance_var)\n",
        "\n",
        "\n",
        "\n",
        "# main\n",
        "option = '7'\n",
        "compare_label_box('../output_labeled_'+option+'.avi', 'tracking_results/trdimp/trdimp/video_output_origin_'+option+'.txt')"
      ]
    },
    {
      "cell_type": "markdown",
      "source": [
        "# 1-d signal evaluation.\n",
        "from the output box txt."
      ],
      "metadata": {
        "id": "pnxwghOnyyTm"
      }
    },
    {
      "cell_type": "code",
      "execution_count": null,
      "metadata": {
        "colab": {
          "base_uri": "https://localhost:8080/"
        },
        "id": "e6yJhoylMBgS",
        "outputId": "ccdaad50-276c-40ee-f72e-2adfdcbbca52"
      },
      "outputs": [
        {
          "name": "stdout",
          "output_type": "stream",
          "text": [
            "/content/drive/MyDrive/TUMresearch\n"
          ]
        }
      ],
      "source": [
        "%cd ../../"
      ]
    },
    {
      "cell_type": "code",
      "execution_count": null,
      "metadata": {
        "colab": {
          "base_uri": "https://localhost:8080/"
        },
        "id": "dHw9mBvvKZih",
        "outputId": "3ecb922b-cbf9-4b6f-866c-01e6f1009a08"
      },
      "outputs": [
        {
          "output_type": "stream",
          "name": "stdout",
          "text": [
            "correlation 0.8109169683688237\n",
            "ratio mean and var 0.9661425918954225 0.001192889826495096\n",
            "distance mean and var 1.9692845913120236 1.1887786635373154\n"
          ]
        }
      ],
      "source": [
        "# Evaluate the tracker result and the label.\n",
        "import cv2\n",
        "import numpy as np\n",
        "import matplotlib.pyplot as plt\n",
        "from scipy.signal import butter, lfilter\n",
        "import math\n",
        "\n",
        "\n",
        "def read_box_text(file_name):\n",
        "  box_path = file_name\n",
        "  box_file = open(box_path, 'rb')\n",
        "  box_text = box_file.readlines()\n",
        "\n",
        "  box_text = [x.strip() for x in box_text] # remove '\\n'\n",
        "  box_list = []\n",
        "  for line in box_text:\n",
        "    row = line.split(bytes('\\t', 'utf-8')) # remove '\\t'\n",
        "    row = [int(row_byte) for row_byte in row]\n",
        "    box_list.append(row) # the box is like x y w h\n",
        "  return box_list\n",
        "\n",
        "\n",
        "def evaluation(model_box, truth_box):\n",
        "  model_area_list = []\n",
        "  truth_area_list = []\n",
        "  ratio_list = []\n",
        "  center_distance_list = []\n",
        "\n",
        "  pause_spot = 33 # 0 1 2 ... 32 33 39 40 ...\n",
        "\n",
        "  for i in range(len(model_box)):\n",
        "\n",
        "    if i <= pause_spot:\n",
        "      t = i\n",
        "    else:\n",
        "      t = i + 5\n",
        "\n",
        "    current_model_box = model_box[i] # [x, y, w, h]\n",
        "    current_truth_box = truth_box[t]\n",
        "\n",
        "    model_box_area = current_model_box[2] * current_model_box[3]\n",
        "    model_box_center = (current_model_box[0]+current_model_box[2]/2, current_model_box[1]+current_model_box[3]/2) # get a tuple (x,y)\n",
        "\n",
        "    truth_box_area = current_truth_box[2] * current_truth_box[3]\n",
        "    truth_box_center = (current_truth_box[0]+current_truth_box[2]/2, current_truth_box[1]+current_truth_box[3]/2)\n",
        "\n",
        "    center_distance = math.sqrt((truth_box_center[0]-model_box_center[0])**2+(truth_box_center[1]-model_box_center[1])**2)\n",
        "    ratio = model_box_area/truth_box_area\n",
        "\n",
        "    model_area_list.append(model_box_area)\n",
        "    truth_area_list.append(truth_box_area)\n",
        "    ratio_list.append(ratio)\n",
        "    center_distance_list.append(center_distance)\n",
        "\n",
        "  area_list = [model_area_list, truth_area_list]\n",
        "  return area_list, ratio_list, center_distance_list\n",
        "\n",
        "\n",
        "# current work path TUMresearch\n",
        "\n",
        "model_1_result = 'TransformerTrack/pytracking/tracking_results/trdimp/trdimp/video_test_video_pretrained.txt'\n",
        "model_2_result = 'TransformerTrack/pytracking/tracking_results/trdimp/trdimp/video_test_video_epoch60.txt'\n",
        "ground_truth = 'test_data/groundtruth.txt'\n",
        "\n",
        "truth_box = read_box_text(ground_truth)\n",
        "model_box = read_box_text(model_2_result)\n",
        "area, ratio, center_distance = evaluation(model_box, truth_box)\n",
        "\n",
        "area_array_model = np.array(area[0])\n",
        "area_array_truth = np.array(area[1])\n",
        "correlation = np.corrcoef(area_array_model, area_array_truth)[0, 1]\n",
        "ratio_array = np.array(ratio)\n",
        "ratio_mean = np.mean(ratio_array)\n",
        "ratio_var = np.var(ratio_array)\n",
        "center_distance_array = np.array(center_distance)\n",
        "distance_mean = np.mean(center_distance_array)\n",
        "distance_var = np.var(center_distance_array)\n",
        "\n",
        "print('correlation', correlation)\n",
        "print('ratio mean and var', ratio_mean, ratio_var)\n",
        "print('distance mean and var', distance_mean, distance_var)\n",
        "\n",
        "# pretrained\n",
        "# correlation 0.7646347907945616\n",
        "# ratio mean and var 1.0528848433103495 0.0016338945833171076\n",
        "# distance mean and var 3.615145577315292 3.6400247803990875\n",
        "\n",
        "# epoch29\n",
        "# correlation 0.7972515441562111\n",
        "# ratio mean and var 0.9689619809592778 0.0012674838529734213\n",
        "# distance mean and var 1.9291904919217444 1.1561310226229253\n",
        "\n",
        "# epoch30\n",
        "# correlation 0.7901425380831818\n",
        "# ratio mean and var 0.9636088056526799 0.0012859830352460607\n",
        "# distance mean and var 1.9702955886786249 1.1179352932335507\n",
        "\n",
        "# epoch40\n",
        "# correlation 0.804700609484661\n",
        "# ratio mean and var 0.9663609592887282 0.0012260414739092554\n",
        "# distance mean and var 2.091909812116925 1.2430993844805593\n",
        "\n",
        "# epoch50\n",
        "# correlation 0.8008285604480204\n",
        "# ratio mean and var 0.9655828630850202 0.0012363682514887541\n",
        "# distance mean and var 2.027600939906249 1.1068576843052498\n",
        "\n",
        "# epoch60\n",
        "# correlation 0.8109169683688237\n",
        "# ratio mean and var 0.9661425918954225 0.001192889826495096\n",
        "# distance mean and var 1.9692845913120236 1.1887786635373154"
      ]
    },
    {
      "cell_type": "markdown",
      "source": [
        "# Dice Evaluation. test_video. Groundtruth vs different epochs\n",
        "Compare tracking performance"
      ],
      "metadata": {
        "id": "-reaZRjMxeXg"
      }
    },
    {
      "cell_type": "code",
      "execution_count": null,
      "metadata": {
        "id": "8hxGnE-nMIYd",
        "colab": {
          "base_uri": "https://localhost:8080/"
        },
        "outputId": "6c04b23b-6adf-4392-8325-b7d03f9e843e"
      },
      "outputs": [
        {
          "output_type": "stream",
          "name": "stdout",
          "text": [
            "dice mean and var 0.9496762918858952 0.00036167071898684865\n"
          ]
        }
      ],
      "source": [
        "# dice evaluation\n",
        "import numpy as np\n",
        "import os\n",
        "\n",
        "def read_box_text(file_name):\n",
        "  box_path = file_name\n",
        "  box_file = open(box_path, 'rb')\n",
        "  box_text = box_file.readlines()\n",
        "\n",
        "  box_text = [x.strip() for x in box_text] # remove '\\n'\n",
        "  box_list = []\n",
        "  for line in box_text:\n",
        "    row = line.split(bytes('\\t', 'utf-8')) # remove '\\t'\n",
        "    row = [int(row_byte) for row_byte in row]\n",
        "    box_list.append(row) # the box is like x y w h\n",
        "  return box_list\n",
        "\n",
        "\n",
        "def dice_cal(model_box, truth_box):\n",
        "  # box list is like: [[x1 y1 w1 h1],[x2, y2, w2, h2]]\n",
        "  dice_list = []\n",
        "  for i in range(len(model_box)):\n",
        "    x1m = model_box[i][0]\n",
        "    y1m = model_box[i][1]\n",
        "    x2m = model_box[i][0] + model_box[i][2]\n",
        "    y2m = model_box[i][1] + model_box[i][3]\n",
        "\n",
        "    x1t = truth_box[i][0]\n",
        "    y1t = truth_box[i][1]\n",
        "    x2t = truth_box[i][0] + truth_box[i][2]\n",
        "    y2t = truth_box[i][1] + truth_box[i][3]\n",
        "\n",
        "    # Convert to (x1, y1, x2, y2) format\n",
        "    box1_corners = (x1m, y1m, x2m, y2m)\n",
        "    box2_corners = (x1t, y1t, x2t, y2t)\n",
        "\n",
        "    # Calculate the intersection coordinates\n",
        "    intersection_x1 = max(box1_corners[0], box2_corners[0])\n",
        "    intersection_y1 = max(box1_corners[1], box2_corners[1])\n",
        "    intersection_x2 = min(box1_corners[2], box2_corners[2])\n",
        "    intersection_y2 = min(box1_corners[3], box2_corners[3])\n",
        "\n",
        "    # Calculate the intersection width and height\n",
        "    intersection_width = intersection_x2 - intersection_x1\n",
        "    intersection_height = intersection_y2 - intersection_y1\n",
        "\n",
        "    # Calculate the intersection area\n",
        "    intersection_area = intersection_width * intersection_height\n",
        "\n",
        "    if intersection_x1 > intersection_x2 or intersection_y1 > intersection_y2:\n",
        "        intersection_area = 0\n",
        "\n",
        "    sum_m = model_box[i][2] * model_box[i][3]\n",
        "    sum_t = truth_box[i][2] * truth_box[i][3]\n",
        "\n",
        "    dice_score = (2 * intersection_area) / (sum_m + sum_t)\n",
        "    dice_list.append(dice_score)\n",
        "\n",
        "  return dice_list\n",
        "\n",
        "# current work path TUMresearch\n",
        "model_result = 'TransformerTrack/pytracking/tracking_results/trdimp/trdimp/video_test_video_pretrained.txt'\n",
        "ground_truth = 'test_data/groundtruth.txt'\n",
        "\n",
        "truth_box = read_box_text(ground_truth) # should be a list\n",
        "model_box = read_box_text(model_result)\n",
        "dice_list = dice_cal(model_box, truth_box)\n",
        "\n",
        "dice_array = np.array(dice_list)\n",
        "dice_mean = np.mean(dice_array)\n",
        "dice_var = np.var(dice_array)\n",
        "print('dice mean and var', dice_mean, dice_var)\n",
        "\n",
        "# epoch 60    dice mean and var 0.9593162452429136  0.0003260515859533906\n",
        "# epoch 50    dice mean and var 0.959140270056981   0.000332757229322173\n",
        "# epoch 40    dice mean and var 0.9583775545023265  0.00029843027460937157\n",
        "# epoch 30    dice mean and var 0.958474315518501   0.0003357168055197383\n",
        "# pretrained  dice mean and var 0.9496762918858952  0.00036167071898684865"
      ]
    }
  ],
  "metadata": {
    "accelerator": "GPU",
    "colab": {
      "collapsed_sections": [
        "imMHWIeaWDRV",
        "kZqOlbYTAazQ",
        "JIxfHAn28APn",
        "9Xe9RQYUiTVX",
        "xcX2cyOZ81jd",
        "mTNq_uvXquh9",
        "z-LQ8jvrQ72t",
        "IW3yyxCTvH9C",
        "mEQ0k2-N7LSi",
        "akxwqQJSv5Vj",
        "pnxwghOnyyTm"
      ],
      "machine_shape": "hm",
      "provenance": [],
      "gpuType": "T4",
      "include_colab_link": true
    },
    "kernelspec": {
      "display_name": "Python 3",
      "name": "python3"
    },
    "language_info": {
      "name": "python"
    }
  },
  "nbformat": 4,
  "nbformat_minor": 0
}